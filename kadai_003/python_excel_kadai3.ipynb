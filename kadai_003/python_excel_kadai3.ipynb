{
  "nbformat": 4,
  "nbformat_minor": 0,
  "metadata": {
    "colab": {
      "provenance": []
    },
    "kernelspec": {
      "name": "python3",
      "display_name": "Python 3"
    },
    "language_info": {
      "name": "python"
    }
  },
  "cells": [
    {
      "cell_type": "code",
      "source": [
        "import pandas as pd\n",
        "from openpyxl import Workbook\n",
        "from openpyxl.styles import PatternFill, Font, Border, Side, Alignment\n",
        "\n",
        "# データの読み込み\n",
        "df_2022 = pd.read_excel('2022_年間売上表.xlsx', sheet_name='Sheet1')\n",
        "df_2023 = pd.read_excel('2023_年間売上表.xlsx', sheet_name='Sheet1')\n",
        "\n",
        "# データの連結\n",
        "df_combined = pd.concat([df_2022, df_2023], ignore_index=True)\n",
        "\n",
        "# データのグループ化と集約\n",
        "df_grouped = df_combined.groupby(['商品', '売上年'])['金額（千円）'].sum().reset_index()\n",
        "\n",
        "# 新しいExcelファイルの作成\n",
        "wb = Workbook()\n",
        "ws = wb.active\n",
        "\n",
        "# ヘッダー部分の文字を太字、中央揃えに設定\n",
        "for col_num, value in enumerate(['商品', '売上年', '金額（千円）'], 1):\n",
        "    cell = ws.cell(row=1, column=col_num, value=value)\n",
        "    cell.fill = PatternFill(start_color=\"F2F2F2\", end_color=\"F2F2F2\", fill_type=\"solid\")\n",
        "    cell.font = Font(bold=True)\n",
        "    cell.alignment = Alignment(horizontal='center', vertical='center')\n",
        "\n",
        "# 列幅の指定\n",
        "ws.column_dimensions['A'].width = 15\n",
        "ws.column_dimensions['B'].width = 7\n",
        "ws.column_dimensions['C'].width = 11\n",
        "\n",
        "# ヘッダーのセルに格子線を追加\n",
        "for col in ws.columns:\n",
        "    for cell in col:\n",
        "        cell.border = Border(left=Side(border_style='thin', color='000000'),\n",
        "                             right=Side(border_style='thin', color='000000'),\n",
        "                             top=Side(border_style='thin', color='000000'),\n",
        "                             bottom=Side(border_style='thin', color='000000'))\n",
        "\n",
        "# データをExcelに書き込み\n",
        "for r_idx, row in enumerate(df_grouped.itertuples(), start=2):\n",
        "    ws.cell(row=r_idx, column=1, value=row.商品)\n",
        "    ws.cell(row=r_idx, column=2, value=row.売上年)\n",
        "    ws.cell(row=r_idx, column=3, value=row._3)\n",
        "\n",
        "# Excelファイルの保存\n",
        "wb.save('売上集計表.xlsx')\n"
      ],
      "metadata": {
        "id": "6OIwTGme-lW1"
      },
      "execution_count": 9,
      "outputs": []
    }
  ]
}