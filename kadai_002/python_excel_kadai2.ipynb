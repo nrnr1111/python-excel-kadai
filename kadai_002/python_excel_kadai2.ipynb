{
  "nbformat": 4,
  "nbformat_minor": 0,
  "metadata": {
    "colab": {
      "provenance": []
    },
    "kernelspec": {
      "name": "python3",
      "display_name": "Python 3"
    },
    "language_info": {
      "name": "python"
    }
  },
  "cells": [
    {
      "cell_type": "code",
      "source": [
        "import pandas as pd\n",
        "\n",
        "# 元データ\n",
        "data = {'日付': ['2023-05-17', '2023-05-18', '2023-05-19', '2023-05-20', '2023-05-21'],\n",
        "        '社員名': ['山田', '佐藤', '鈴木', '田中', '高橋'],\n",
        "        '売上': [100, 200, 150, 300, 250],\n",
        "        '部門': ['メーカー', '代理店', 'メーカー', '商社', '代理店']}\n",
        "\n",
        "df = pd.DataFrame(data)\n",
        "\n",
        "# 平均売上の計算\n",
        "average_sales = df['売上'].mean()\n",
        "\n",
        "# 業績ランクの条件分岐を行う関数\n",
        "def performance(sales):\n",
        "    if sales >= average_sales + 50:\n",
        "        return 'A'\n",
        "    elif sales >= average_sales:\n",
        "        return 'B'\n",
        "    else:\n",
        "        return 'C'\n",
        "\n",
        "# 平均売上列の追加\n",
        "df['平均売上'] = average_sales\n",
        "\n",
        "# 業績ランク列の追加\n",
        "df['業績ランク'] = df['売上'].apply(performance)\n",
        "\n",
        "# 新しいExcelファイルに書き出す（列の幅を調整してA列を広げる）\n",
        "with pd.ExcelWriter('業績.xlsx', engine='openpyxl') as writer:\n",
        "    df.to_excel(writer, index=False, sheet_name='Sheet1')\n",
        "    worksheet = writer.sheets['Sheet1']\n",
        "\n",
        "    # A列の幅を広げる\n",
        "    worksheet.column_dimensions['A'].width = 12\n",
        "\n",
        "\n",
        "\n"
      ],
      "metadata": {
        "id": "svNA3k2wOXcA"
      },
      "execution_count": 19,
      "outputs": []
    },
    {
      "cell_type": "code",
      "source": [],
      "metadata": {
        "id": "J1Bnk4IoPYAL"
      },
      "execution_count": null,
      "outputs": []
    }
  ]
}